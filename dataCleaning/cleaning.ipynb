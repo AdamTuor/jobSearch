{
 "cells": [
  {
   "cell_type": "code",
   "execution_count": 1,
   "metadata": {},
   "outputs": [],
   "source": [
    "import pandas as pd\n"
   ]
  },
  {
   "cell_type": "code",
   "execution_count": 2,
   "metadata": {},
   "outputs": [],
   "source": [
    "data = pd.read_csv('../Resources/output.csv')"
   ]
  },
  {
   "cell_type": "code",
   "execution_count": 3,
   "metadata": {},
   "outputs": [],
   "source": [
    "df=pd.DataFrame(data)"
   ]
  },
  {
   "attachments": {},
   "cell_type": "markdown",
   "metadata": {},
   "source": [
    "# Cleaning and sorting for Flask API"
   ]
  },
  {
   "cell_type": "code",
   "execution_count": 57,
   "metadata": {},
   "outputs": [
    {
     "data": {
      "text/html": [
       "<div>\n",
       "<style scoped>\n",
       "    .dataframe tbody tr th:only-of-type {\n",
       "        vertical-align: middle;\n",
       "    }\n",
       "\n",
       "    .dataframe tbody tr th {\n",
       "        vertical-align: top;\n",
       "    }\n",
       "\n",
       "    .dataframe thead th {\n",
       "        text-align: right;\n",
       "    }\n",
       "</style>\n",
       "<table border=\"1\" class=\"dataframe\">\n",
       "  <thead>\n",
       "    <tr style=\"text-align: right;\">\n",
       "      <th></th>\n",
       "      <th>Title</th>\n",
       "      <th>Company</th>\n",
       "      <th>Location</th>\n",
       "      <th>Salary</th>\n",
       "      <th>Link</th>\n",
       "      <th>Word count</th>\n",
       "      <th>Most common word</th>\n",
       "    </tr>\n",
       "  </thead>\n",
       "  <tbody>\n",
       "    <tr>\n",
       "      <th>0</th>\n",
       "      <td>Junior Data Analyst</td>\n",
       "      <td>Zartico, Inc.</td>\n",
       "      <td>Remote</td>\n",
       "      <td>Estimated $68.1K - $86.2K a year</td>\n",
       "      <td>&lt;a href=\"https://www.indeed.com/rc/clk?jk=2ef2...</td>\n",
       "      <td>{'join': 3, 'team,': 1, 'industry': 1, 'job': ...</td>\n",
       "      <td>data</td>\n",
       "    </tr>\n",
       "    <tr>\n",
       "      <th>1</th>\n",
       "      <td>Junior Business Analyst</td>\n",
       "      <td>Janus Henderson</td>\n",
       "      <td>Hybrid remote in Denver, CO</td>\n",
       "      <td>NaN</td>\n",
       "      <td>&lt;a href=\"https://www.indeed.com/rc/clk?jk=7fe4...</td>\n",
       "      <td>{'architects': 1, 'join': 2, 'rewards': 1, 'ti...</td>\n",
       "      <td>work</td>\n",
       "    </tr>\n",
       "    <tr>\n",
       "      <th>2</th>\n",
       "      <td>Enterprise Data Analyst Junior</td>\n",
       "      <td>STM Consulting.INC</td>\n",
       "      <td>Denver, CO 80204 (Auraria area)</td>\n",
       "      <td>NaN</td>\n",
       "      <td>&lt;a href=\"https://www.indeed.com/company/STM-Co...</td>\n",
       "      <td>{'reports,': 1, 'portfolio.': 1, 'websites': 2...</td>\n",
       "      <td>·</td>\n",
       "    </tr>\n",
       "    <tr>\n",
       "      <th>3</th>\n",
       "      <td>Junior Business Analyst</td>\n",
       "      <td>aezion inc</td>\n",
       "      <td>Remote</td>\n",
       "      <td>NaN</td>\n",
       "      <td>&lt;a href=\"https://www.indeed.com/company/Aezion...</td>\n",
       "      <td>{'junior': 2, '3': 1, 'teams': 1, 'contract': ...</td>\n",
       "      <td>business</td>\n",
       "    </tr>\n",
       "    <tr>\n",
       "      <th>4</th>\n",
       "      <td>Junior Data Analyst</td>\n",
       "      <td>Affiliated Monitoring</td>\n",
       "      <td>Union, NJ 07083</td>\n",
       "      <td>NaN</td>\n",
       "      <td>&lt;a href=\"https://www.indeed.com/pagead/clk?mo=...</td>\n",
       "      <td>{'post': 1, 'administration,': 1, 'entrepreneu...</td>\n",
       "      <td>data</td>\n",
       "    </tr>\n",
       "  </tbody>\n",
       "</table>\n",
       "</div>"
      ],
      "text/plain": [
       "                            Title                Company  \\\n",
       "0             Junior Data Analyst          Zartico, Inc.   \n",
       "1         Junior Business Analyst        Janus Henderson   \n",
       "2  Enterprise Data Analyst Junior     STM Consulting.INC   \n",
       "3         Junior Business Analyst             aezion inc   \n",
       "4             Junior Data Analyst  Affiliated Monitoring   \n",
       "\n",
       "                          Location                            Salary  \\\n",
       "0                           Remote  Estimated $68.1K - $86.2K a year   \n",
       "1      Hybrid remote in Denver, CO                               NaN   \n",
       "2  Denver, CO 80204 (Auraria area)                               NaN   \n",
       "3                           Remote                               NaN   \n",
       "4                  Union, NJ 07083                               NaN   \n",
       "\n",
       "                                                Link  \\\n",
       "0  <a href=\"https://www.indeed.com/rc/clk?jk=2ef2...   \n",
       "1  <a href=\"https://www.indeed.com/rc/clk?jk=7fe4...   \n",
       "2  <a href=\"https://www.indeed.com/company/STM-Co...   \n",
       "3  <a href=\"https://www.indeed.com/company/Aezion...   \n",
       "4  <a href=\"https://www.indeed.com/pagead/clk?mo=...   \n",
       "\n",
       "                                          Word count Most common word  \n",
       "0  {'join': 3, 'team,': 1, 'industry': 1, 'job': ...             data  \n",
       "1  {'architects': 1, 'join': 2, 'rewards': 1, 'ti...             work  \n",
       "2  {'reports,': 1, 'portfolio.': 1, 'websites': 2...                ·  \n",
       "3  {'junior': 2, '3': 1, 'teams': 1, 'contract': ...         business  \n",
       "4  {'post': 1, 'administration,': 1, 'entrepreneu...             data  "
      ]
     },
     "execution_count": 57,
     "metadata": {},
     "output_type": "execute_result"
    }
   ],
   "source": [
    "df.head()"
   ]
  },
  {
   "attachments": {},
   "cell_type": "markdown",
   "metadata": {},
   "source": [
    "### Filter for jobs with salary estimates included"
   ]
  },
  {
   "cell_type": "code",
   "execution_count": 4,
   "metadata": {},
   "outputs": [],
   "source": [
    "salary_filter = df.dropna()"
   ]
  },
  {
   "cell_type": "code",
   "execution_count": 11,
   "metadata": {},
   "outputs": [],
   "source": [
    "columns_to_keep = ['Title','Word count']\n",
    "word_df = salary_filter[columns_to_keep]\n",
    "#word_df = word_df.apply(lambda x: x.str.replace('[^a-zA-Z0-9\\s]+', '', regex=True))"
   ]
  },
  {
   "cell_type": "code",
   "execution_count": 12,
   "metadata": {},
   "outputs": [],
   "source": [
    "word_df.to_json('../Resources/words.json',orient='records')"
   ]
  },
  {
   "attachments": {},
   "cell_type": "markdown",
   "metadata": {},
   "source": [
    "### Removing characters to convert to float"
   ]
  },
  {
   "cell_type": "code",
   "execution_count": 63,
   "metadata": {},
   "outputs": [],
   "source": [
    "salary_filter[['Min_Salary', 'Max_Salary']] = salary_filter['Salary'].str.split('-', expand=True)\n",
    "\n",
    "# Remove text from salary_start and salary_end columns\n",
    "salary_filter['Min_Salary'] = salary_filter['Salary'].str.extract(r'\\$([\\d,]+\\.\\d+|\\d+)')[0].str.replace(',', '').astype(float)\n",
    "salary_filter['Max_Salary'] = salary_filter['Max_Salary'].str.extract(r'\\$([\\d,]+\\.\\d+|\\d+)')[0].str.replace(',', '').astype(float)"
   ]
  },
  {
   "cell_type": "code",
   "execution_count": 76,
   "metadata": {},
   "outputs": [
    {
     "data": {
      "text/html": [
       "<div>\n",
       "<style scoped>\n",
       "    .dataframe tbody tr th:only-of-type {\n",
       "        vertical-align: middle;\n",
       "    }\n",
       "\n",
       "    .dataframe tbody tr th {\n",
       "        vertical-align: top;\n",
       "    }\n",
       "\n",
       "    .dataframe thead th {\n",
       "        text-align: right;\n",
       "    }\n",
       "</style>\n",
       "<table border=\"1\" class=\"dataframe\">\n",
       "  <thead>\n",
       "    <tr style=\"text-align: right;\">\n",
       "      <th></th>\n",
       "      <th>Title</th>\n",
       "      <th>Company</th>\n",
       "      <th>Location</th>\n",
       "      <th>Salary</th>\n",
       "      <th>Link</th>\n",
       "      <th>Word count</th>\n",
       "      <th>Most common word</th>\n",
       "      <th>Min_Salary</th>\n",
       "      <th>Max_Salary</th>\n",
       "    </tr>\n",
       "  </thead>\n",
       "  <tbody>\n",
       "    <tr>\n",
       "      <th>0</th>\n",
       "      <td>Junior Data Analyst</td>\n",
       "      <td>Zartico, Inc.</td>\n",
       "      <td>Remote</td>\n",
       "      <td>Estimated $68.1K - $86.2K a year</td>\n",
       "      <td>&lt;a href=\"https://www.indeed.com/rc/clk?jk=2ef2...</td>\n",
       "      <td>{'join': 3, 'team,': 1, 'industry': 1, 'job': ...</td>\n",
       "      <td>data</td>\n",
       "      <td>68100.0</td>\n",
       "      <td>86200.0</td>\n",
       "    </tr>\n",
       "    <tr>\n",
       "      <th>7</th>\n",
       "      <td>Junior Data Analyst</td>\n",
       "      <td>General Dynamics Information Technology</td>\n",
       "      <td>Remote in Virginia+1 location</td>\n",
       "      <td>Estimated $93.7K - $119K a year</td>\n",
       "      <td>&lt;a href=\"https://www.indeed.com/rc/clk?jk=c2d2...</td>\n",
       "      <td>{\"you'll\": 2, 'equivalent': 1, 'junior': 1, 'm...</td>\n",
       "      <td>data</td>\n",
       "      <td>93700.0</td>\n",
       "      <td>119000.0</td>\n",
       "    </tr>\n",
       "    <tr>\n",
       "      <th>9</th>\n",
       "      <td>Junior Data Analyst</td>\n",
       "      <td>Alpha Facilities Solutions</td>\n",
       "      <td>San Antonio, TX 78261</td>\n",
       "      <td>Estimated $74.5K - $94.3K a year</td>\n",
       "      <td>&lt;a href=\"https://www.indeed.com/rc/clk?jk=37a9...</td>\n",
       "      <td>{'deliverables': 1, 'senior': 1, 'reason': 1, ...</td>\n",
       "      <td>business</td>\n",
       "      <td>74500.0</td>\n",
       "      <td>94300.0</td>\n",
       "    </tr>\n",
       "    <tr>\n",
       "      <th>11</th>\n",
       "      <td>Junior Data Analyst</td>\n",
       "      <td>Zartico</td>\n",
       "      <td>Salt Lake City, UT 84101 (People's Freeway area)</td>\n",
       "      <td>Estimated $65.1K - $82.4K a year</td>\n",
       "      <td>&lt;a href=\"https://www.indeed.com/rc/clk?jk=f499...</td>\n",
       "      <td>{'join': 3, 'team,': 1, 'industry': 1, 'job': ...</td>\n",
       "      <td>data</td>\n",
       "      <td>65100.0</td>\n",
       "      <td>82400.0</td>\n",
       "    </tr>\n",
       "    <tr>\n",
       "      <th>12</th>\n",
       "      <td>Junior Database Analyst</td>\n",
       "      <td>EloTouch</td>\n",
       "      <td>Remote in Richardson, TX 75081</td>\n",
       "      <td>Estimated $92.8K - $117K a year</td>\n",
       "      <td>&lt;a href=\"https://www.indeed.com/rc/clk?jk=680a...</td>\n",
       "      <td>{'software.': 1, 'etc.': 1, 'reports': 1, 'dev...</td>\n",
       "      <td>data</td>\n",
       "      <td>92800.0</td>\n",
       "      <td>117000.0</td>\n",
       "    </tr>\n",
       "  </tbody>\n",
       "</table>\n",
       "</div>"
      ],
      "text/plain": [
       "                      Title                                  Company  \\\n",
       "0       Junior Data Analyst                            Zartico, Inc.   \n",
       "7       Junior Data Analyst  General Dynamics Information Technology   \n",
       "9       Junior Data Analyst               Alpha Facilities Solutions   \n",
       "11      Junior Data Analyst                                  Zartico   \n",
       "12  Junior Database Analyst                                 EloTouch   \n",
       "\n",
       "                                            Location  \\\n",
       "0                                             Remote   \n",
       "7                      Remote in Virginia+1 location   \n",
       "9                              San Antonio, TX 78261   \n",
       "11  Salt Lake City, UT 84101 (People's Freeway area)   \n",
       "12                    Remote in Richardson, TX 75081   \n",
       "\n",
       "                              Salary  \\\n",
       "0   Estimated $68.1K - $86.2K a year   \n",
       "7    Estimated $93.7K - $119K a year   \n",
       "9   Estimated $74.5K - $94.3K a year   \n",
       "11  Estimated $65.1K - $82.4K a year   \n",
       "12   Estimated $92.8K - $117K a year   \n",
       "\n",
       "                                                 Link  \\\n",
       "0   <a href=\"https://www.indeed.com/rc/clk?jk=2ef2...   \n",
       "7   <a href=\"https://www.indeed.com/rc/clk?jk=c2d2...   \n",
       "9   <a href=\"https://www.indeed.com/rc/clk?jk=37a9...   \n",
       "11  <a href=\"https://www.indeed.com/rc/clk?jk=f499...   \n",
       "12  <a href=\"https://www.indeed.com/rc/clk?jk=680a...   \n",
       "\n",
       "                                           Word count Most common word  \\\n",
       "0   {'join': 3, 'team,': 1, 'industry': 1, 'job': ...             data   \n",
       "7   {\"you'll\": 2, 'equivalent': 1, 'junior': 1, 'm...             data   \n",
       "9   {'deliverables': 1, 'senior': 1, 'reason': 1, ...         business   \n",
       "11  {'join': 3, 'team,': 1, 'industry': 1, 'job': ...             data   \n",
       "12  {'software.': 1, 'etc.': 1, 'reports': 1, 'dev...             data   \n",
       "\n",
       "    Min_Salary  Max_Salary  \n",
       "0      68100.0     86200.0  \n",
       "7      93700.0    119000.0  \n",
       "9      74500.0     94300.0  \n",
       "11     65100.0     82400.0  \n",
       "12     92800.0    117000.0  "
      ]
     },
     "execution_count": 76,
     "metadata": {},
     "output_type": "execute_result"
    }
   ],
   "source": [
    "salary_filter.head()"
   ]
  },
  {
   "cell_type": "code",
   "execution_count": 65,
   "metadata": {},
   "outputs": [],
   "source": [
    "salary_filter['Min_Salary'] = salary_filter['Min_Salary'] * 1000\n",
    "salary_filter['Max_Salary'] = salary_filter['Max_Salary'] * 1000\n"
   ]
  },
  {
   "cell_type": "code",
   "execution_count": 67,
   "metadata": {},
   "outputs": [
    {
     "data": {
      "text/plain": [
       "Title                object\n",
       "Company              object\n",
       "Location             object\n",
       "Salary               object\n",
       "Link                 object\n",
       "Word count           object\n",
       "Most common word     object\n",
       "Min_Salary          float64\n",
       "Max_Salary          float64\n",
       "dtype: object"
      ]
     },
     "execution_count": 67,
     "metadata": {},
     "output_type": "execute_result"
    }
   ],
   "source": [
    "salary_filter.dtypes"
   ]
  },
  {
   "cell_type": "code",
   "execution_count": 70,
   "metadata": {},
   "outputs": [],
   "source": [
    "columns_to_keep = ['Title','Min_Salary','Max_Salary','Most common word']\n",
    "salary_df = salary_filter[columns_to_keep]"
   ]
  },
  {
   "cell_type": "code",
   "execution_count": 75,
   "metadata": {},
   "outputs": [],
   "source": [
    "salary_df.to_json('../Resources/salary.json',orient='records')"
   ]
  },
  {
   "cell_type": "code",
   "execution_count": 78,
   "metadata": {},
   "outputs": [
    {
     "data": {
      "text/html": [
       "<div>\n",
       "<style scoped>\n",
       "    .dataframe tbody tr th:only-of-type {\n",
       "        vertical-align: middle;\n",
       "    }\n",
       "\n",
       "    .dataframe tbody tr th {\n",
       "        vertical-align: top;\n",
       "    }\n",
       "\n",
       "    .dataframe thead th {\n",
       "        text-align: right;\n",
       "    }\n",
       "</style>\n",
       "<table border=\"1\" class=\"dataframe\">\n",
       "  <thead>\n",
       "    <tr style=\"text-align: right;\">\n",
       "      <th></th>\n",
       "      <th>Title</th>\n",
       "      <th>Company</th>\n",
       "      <th>Location</th>\n",
       "      <th>Salary</th>\n",
       "      <th>Link</th>\n",
       "      <th>Word count</th>\n",
       "      <th>Most common word</th>\n",
       "      <th>Min_Salary</th>\n",
       "      <th>Max_Salary</th>\n",
       "    </tr>\n",
       "  </thead>\n",
       "  <tbody>\n",
       "    <tr>\n",
       "      <th>0</th>\n",
       "      <td>Junior Data Analyst</td>\n",
       "      <td>Zartico, Inc.</td>\n",
       "      <td>Remote</td>\n",
       "      <td>Estimated $68.1K - $86.2K a year</td>\n",
       "      <td>&lt;a href=\"https://www.indeed.com/rc/clk?jk=2ef2...</td>\n",
       "      <td>{'join': 3, 'team,': 1, 'industry': 1, 'job': ...</td>\n",
       "      <td>data</td>\n",
       "      <td>68100.0</td>\n",
       "      <td>86200.0</td>\n",
       "    </tr>\n",
       "    <tr>\n",
       "      <th>7</th>\n",
       "      <td>Junior Data Analyst</td>\n",
       "      <td>General Dynamics Information Technology</td>\n",
       "      <td>Remote in Virginia+1 location</td>\n",
       "      <td>Estimated $93.7K - $119K a year</td>\n",
       "      <td>&lt;a href=\"https://www.indeed.com/rc/clk?jk=c2d2...</td>\n",
       "      <td>{\"you'll\": 2, 'equivalent': 1, 'junior': 1, 'm...</td>\n",
       "      <td>data</td>\n",
       "      <td>93700.0</td>\n",
       "      <td>119000.0</td>\n",
       "    </tr>\n",
       "    <tr>\n",
       "      <th>9</th>\n",
       "      <td>Junior Data Analyst</td>\n",
       "      <td>Alpha Facilities Solutions</td>\n",
       "      <td>San Antonio, TX 78261</td>\n",
       "      <td>Estimated $74.5K - $94.3K a year</td>\n",
       "      <td>&lt;a href=\"https://www.indeed.com/rc/clk?jk=37a9...</td>\n",
       "      <td>{'deliverables': 1, 'senior': 1, 'reason': 1, ...</td>\n",
       "      <td>business</td>\n",
       "      <td>74500.0</td>\n",
       "      <td>94300.0</td>\n",
       "    </tr>\n",
       "    <tr>\n",
       "      <th>11</th>\n",
       "      <td>Junior Data Analyst</td>\n",
       "      <td>Zartico</td>\n",
       "      <td>Salt Lake City, UT 84101 (People's Freeway area)</td>\n",
       "      <td>Estimated $65.1K - $82.4K a year</td>\n",
       "      <td>&lt;a href=\"https://www.indeed.com/rc/clk?jk=f499...</td>\n",
       "      <td>{'join': 3, 'team,': 1, 'industry': 1, 'job': ...</td>\n",
       "      <td>data</td>\n",
       "      <td>65100.0</td>\n",
       "      <td>82400.0</td>\n",
       "    </tr>\n",
       "    <tr>\n",
       "      <th>12</th>\n",
       "      <td>Junior Database Analyst</td>\n",
       "      <td>EloTouch</td>\n",
       "      <td>Remote in Richardson, TX 75081</td>\n",
       "      <td>Estimated $92.8K - $117K a year</td>\n",
       "      <td>&lt;a href=\"https://www.indeed.com/rc/clk?jk=680a...</td>\n",
       "      <td>{'software.': 1, 'etc.': 1, 'reports': 1, 'dev...</td>\n",
       "      <td>data</td>\n",
       "      <td>92800.0</td>\n",
       "      <td>117000.0</td>\n",
       "    </tr>\n",
       "  </tbody>\n",
       "</table>\n",
       "</div>"
      ],
      "text/plain": [
       "                      Title                                  Company  \\\n",
       "0       Junior Data Analyst                            Zartico, Inc.   \n",
       "7       Junior Data Analyst  General Dynamics Information Technology   \n",
       "9       Junior Data Analyst               Alpha Facilities Solutions   \n",
       "11      Junior Data Analyst                                  Zartico   \n",
       "12  Junior Database Analyst                                 EloTouch   \n",
       "\n",
       "                                            Location  \\\n",
       "0                                             Remote   \n",
       "7                      Remote in Virginia+1 location   \n",
       "9                              San Antonio, TX 78261   \n",
       "11  Salt Lake City, UT 84101 (People's Freeway area)   \n",
       "12                    Remote in Richardson, TX 75081   \n",
       "\n",
       "                              Salary  \\\n",
       "0   Estimated $68.1K - $86.2K a year   \n",
       "7    Estimated $93.7K - $119K a year   \n",
       "9   Estimated $74.5K - $94.3K a year   \n",
       "11  Estimated $65.1K - $82.4K a year   \n",
       "12   Estimated $92.8K - $117K a year   \n",
       "\n",
       "                                                 Link  \\\n",
       "0   <a href=\"https://www.indeed.com/rc/clk?jk=2ef2...   \n",
       "7   <a href=\"https://www.indeed.com/rc/clk?jk=c2d2...   \n",
       "9   <a href=\"https://www.indeed.com/rc/clk?jk=37a9...   \n",
       "11  <a href=\"https://www.indeed.com/rc/clk?jk=f499...   \n",
       "12  <a href=\"https://www.indeed.com/rc/clk?jk=680a...   \n",
       "\n",
       "                                           Word count Most common word  \\\n",
       "0   {'join': 3, 'team,': 1, 'industry': 1, 'job': ...             data   \n",
       "7   {\"you'll\": 2, 'equivalent': 1, 'junior': 1, 'm...             data   \n",
       "9   {'deliverables': 1, 'senior': 1, 'reason': 1, ...         business   \n",
       "11  {'join': 3, 'team,': 1, 'industry': 1, 'job': ...             data   \n",
       "12  {'software.': 1, 'etc.': 1, 'reports': 1, 'dev...             data   \n",
       "\n",
       "    Min_Salary  Max_Salary  \n",
       "0      68100.0     86200.0  \n",
       "7      93700.0    119000.0  \n",
       "9      74500.0     94300.0  \n",
       "11     65100.0     82400.0  \n",
       "12     92800.0    117000.0  "
      ]
     },
     "execution_count": 78,
     "metadata": {},
     "output_type": "execute_result"
    }
   ],
   "source": [
    "salary_filter.head()"
   ]
  },
  {
   "cell_type": "code",
   "execution_count": 81,
   "metadata": {},
   "outputs": [],
   "source": [
    "columns_to_keep = ['Title','Company','Location','Salary','Link']\n",
    "job_info_df = salary_filter[columns_to_keep]\n"
   ]
  },
  {
   "cell_type": "code",
   "execution_count": 83,
   "metadata": {},
   "outputs": [],
   "source": [
    "job_info_df.to_json('../Resources/jobinfo.json',orient='records')"
   ]
  }
 ],
 "metadata": {
  "kernelspec": {
   "display_name": "base",
   "language": "python",
   "name": "python3"
  },
  "language_info": {
   "codemirror_mode": {
    "name": "ipython",
    "version": 3
   },
   "file_extension": ".py",
   "mimetype": "text/x-python",
   "name": "python",
   "nbconvert_exporter": "python",
   "pygments_lexer": "ipython3",
   "version": "3.9.13"
  },
  "orig_nbformat": 4
 },
 "nbformat": 4,
 "nbformat_minor": 2
}
