{
 "cells": [
  {
   "cell_type": "code",
   "execution_count": 1,
   "metadata": {},
   "outputs": [],
   "source": [
    "from splinter import Browser\n",
    "from bs4 import BeautifulSoup\n",
    "import pandas as pd\n",
    "from urllib.parse import urljoin"
   ]
  },
  {
   "cell_type": "code",
   "execution_count": 2,
   "metadata": {},
   "outputs": [],
   "source": [
    "browser = Browser('chrome')\n",
    "base_url = 'https://www.indeed.com'\n",
    "url = 'https://www.indeed.com/jobs?q=junior+data+analyst&l=&vjk=3431753fef1de31b'\n",
    "browser.visit(url)"
   ]
  },
  {
   "cell_type": "code",
   "execution_count": 3,
   "metadata": {},
   "outputs": [],
   "source": [
    "html = browser.html\n",
    "soup = BeautifulSoup(html,'html.parser')"
   ]
  },
  {
   "cell_type": "code",
   "execution_count": 4,
   "metadata": {},
   "outputs": [],
   "source": [
    "results = soup.find('ul', class_='jobsearch-ResultsList css-0')"
   ]
  },
  {
   "cell_type": "code",
   "execution_count": 5,
   "metadata": {},
   "outputs": [],
   "source": [
    "jobs = results.find_all('td', class_='resultContent')"
   ]
  },
  {
   "cell_type": "code",
   "execution_count": 6,
   "metadata": {},
   "outputs": [],
   "source": [
    "job_list = []"
   ]
  },
  {
   "cell_type": "code",
   "execution_count": 7,
   "metadata": {},
   "outputs": [],
   "source": [
    "for x in range(1,6):\n",
    "    html = browser.html\n",
    "    soup = BeautifulSoup(html,'html.parser')\n",
    "    results = soup.find('ul', class_='jobsearch-ResultsList css-0')\n",
    "    jobs = results.find_all('td', class_='resultContent')\n",
    "    for job in jobs:\n",
    "        title = job.div.h2.a.text\n",
    "        company = job.find('span', class_='companyName').text\n",
    "        location = job.find('div', class_='companyLocation').text\n",
    "        estimate = job.find('span', class_='estimated-salary')\n",
    "        link = job.find('a')['href']\n",
    "        absolute_link = urljoin(base_url, link)\n",
    "        if estimate is not None:\n",
    "            salary = estimate.text\n",
    "        else:\n",
    "            salary = 'N/A'\n",
    "        job_dict={\n",
    "            'Title':title,\n",
    "            'Company':company,\n",
    "            'Location':location,\n",
    "            'Salary':salary,\n",
    "            'Link':absolute_link\n",
    "        }\n",
    "        job_list.append(job_dict)\n",
    "    button = browser.find_by_css('a[data-testid=\"pagination-page-next\"]')\n",
    "    if button:\n",
    "        button.click()\n",
    "    else:\n",
    "        break"
   ]
  },
  {
   "cell_type": "code",
   "execution_count": 8,
   "metadata": {},
   "outputs": [],
   "source": [
    "browser.quit()"
   ]
  },
  {
   "cell_type": "code",
   "execution_count": 9,
   "metadata": {},
   "outputs": [],
   "source": [
    "df = pd.DataFrame(job_list)"
   ]
  },
  {
   "cell_type": "code",
   "execution_count": 10,
   "metadata": {},
   "outputs": [],
   "source": [
    "pd.set_option('display.max_colwidth',None)"
   ]
  },
  {
   "cell_type": "code",
   "execution_count": 11,
   "metadata": {},
   "outputs": [
    {
     "data": {
      "text/html": [
       "<div>\n",
       "<style scoped>\n",
       "    .dataframe tbody tr th:only-of-type {\n",
       "        vertical-align: middle;\n",
       "    }\n",
       "\n",
       "    .dataframe tbody tr th {\n",
       "        vertical-align: top;\n",
       "    }\n",
       "\n",
       "    .dataframe thead th {\n",
       "        text-align: right;\n",
       "    }\n",
       "</style>\n",
       "<table border=\"1\" class=\"dataframe\">\n",
       "  <thead>\n",
       "    <tr style=\"text-align: right;\">\n",
       "      <th></th>\n",
       "      <th>Title</th>\n",
       "      <th>Company</th>\n",
       "      <th>Location</th>\n",
       "      <th>Salary</th>\n",
       "      <th>Link</th>\n",
       "    </tr>\n",
       "  </thead>\n",
       "  <tbody>\n",
       "    <tr>\n",
       "      <th>0</th>\n",
       "      <td>Junior Data Analyst, Smartsheet</td>\n",
       "      <td>Tarkik Solutions Incorporated</td>\n",
       "      <td>Remote in Washington, DC</td>\n",
       "      <td>N/A</td>\n",
       "      <td>https://www.indeed.com/company/Tarkik-Solutions-Incorporated/jobs/Junior-Data-Analyst-ee47acfffc074d36?fccid=4ba13ae15fa6e720&amp;vjs=3</td>\n",
       "    </tr>\n",
       "    <tr>\n",
       "      <th>1</th>\n",
       "      <td>Junior Data Analyst</td>\n",
       "      <td>Serenity Healthcare</td>\n",
       "      <td>Lehi, UT 84043</td>\n",
       "      <td>Estimated $39K - $49.4K a year</td>\n",
       "      <td>https://www.indeed.com/rc/clk?jk=c8b75f805512db15&amp;fccid=075431e2f3a24949&amp;vjs=3</td>\n",
       "    </tr>\n",
       "    <tr>\n",
       "      <th>2</th>\n",
       "      <td>Junior Business Analyst</td>\n",
       "      <td>Nthline solutions LLC</td>\n",
       "      <td>Remote in Phoenix, AZ</td>\n",
       "      <td>N/A</td>\n",
       "      <td>https://www.indeed.com/company/learnbeyond-consulting/jobs/Junior-Business-Analyst-b37fc0a8923588b3?fccid=c035442f4e5ececf&amp;vjs=3</td>\n",
       "    </tr>\n",
       "    <tr>\n",
       "      <th>3</th>\n",
       "      <td>Junior Data Analyst</td>\n",
       "      <td>Cobbs Creek Healthcare</td>\n",
       "      <td>Newtown Square, PA 19073</td>\n",
       "      <td>N/A</td>\n",
       "      <td>https://www.indeed.com/company/Cobbs-Creek-Healthcare-LLC/jobs/Junior-Data-Analyst-3543db1cf0005aa6?fccid=16a23728ad62ad53&amp;vjs=3</td>\n",
       "    </tr>\n",
       "    <tr>\n",
       "      <th>4</th>\n",
       "      <td>Jr. Data Analyst</td>\n",
       "      <td>AlphaStaff</td>\n",
       "      <td>Remote</td>\n",
       "      <td>Estimated $76.1K - $96.3K a year</td>\n",
       "      <td>https://www.indeed.com/rc/clk?jk=3431753fef1de31b&amp;fccid=19a0fad134659d8e&amp;vjs=3</td>\n",
       "    </tr>\n",
       "    <tr>\n",
       "      <th>...</th>\n",
       "      <td>...</td>\n",
       "      <td>...</td>\n",
       "      <td>...</td>\n",
       "      <td>...</td>\n",
       "      <td>...</td>\n",
       "    </tr>\n",
       "    <tr>\n",
       "      <th>70</th>\n",
       "      <td>Junior Data Analyst</td>\n",
       "      <td>ValuTeachers</td>\n",
       "      <td>Ponte Vedra, FL 32081</td>\n",
       "      <td>N/A</td>\n",
       "      <td>https://www.indeed.com/rc/clk?jk=dedf0d1d0232c667&amp;fccid=067c543bb0652f1c&amp;vjs=3</td>\n",
       "    </tr>\n",
       "    <tr>\n",
       "      <th>71</th>\n",
       "      <td>Jr. Supply Chain Analyst</td>\n",
       "      <td>Restaurant Depot</td>\n",
       "      <td>Whitestone, NY 11357</td>\n",
       "      <td>N/A</td>\n",
       "      <td>https://www.indeed.com/rc/clk?jk=18e1c3bfdf1a3707&amp;fccid=3ca7b0879e770c4b&amp;vjs=3</td>\n",
       "    </tr>\n",
       "    <tr>\n",
       "      <th>72</th>\n",
       "      <td>Junior Data Analyst</td>\n",
       "      <td>KLEAR Digital</td>\n",
       "      <td>Mansfield, PA 16933</td>\n",
       "      <td>Estimated $47.5K - $60.2K a year</td>\n",
       "      <td>https://www.indeed.com/rc/clk?jk=96c3e0e95f6c9e10&amp;fccid=4b09aa20a32f74a1&amp;vjs=3</td>\n",
       "    </tr>\n",
       "    <tr>\n",
       "      <th>73</th>\n",
       "      <td>Junior Data Analyst</td>\n",
       "      <td>391 Financial</td>\n",
       "      <td>Columbia, MO 65203</td>\n",
       "      <td>Estimated $50K - $63.3K a year</td>\n",
       "      <td>https://www.indeed.com/rc/clk?jk=2deaa37c6326b507&amp;fccid=97ed34b540852c92&amp;vjs=3</td>\n",
       "    </tr>\n",
       "    <tr>\n",
       "      <th>74</th>\n",
       "      <td>Data Analyst</td>\n",
       "      <td>FAMILY TREE PRIVATE CARE</td>\n",
       "      <td>Houston, TX 77063 (Westchase area)</td>\n",
       "      <td>Estimated $52K - $65.8K a year</td>\n",
       "      <td>https://www.indeed.com/rc/clk?jk=6446251994199208&amp;fccid=bc36b07c4dd6e8bf&amp;vjs=3</td>\n",
       "    </tr>\n",
       "  </tbody>\n",
       "</table>\n",
       "<p>75 rows × 5 columns</p>\n",
       "</div>"
      ],
      "text/plain": [
       "                              Title                        Company  \\\n",
       "0   Junior Data Analyst, Smartsheet  Tarkik Solutions Incorporated   \n",
       "1               Junior Data Analyst            Serenity Healthcare   \n",
       "2           Junior Business Analyst          Nthline solutions LLC   \n",
       "3               Junior Data Analyst         Cobbs Creek Healthcare   \n",
       "4                  Jr. Data Analyst                     AlphaStaff   \n",
       "..                              ...                            ...   \n",
       "70              Junior Data Analyst                   ValuTeachers   \n",
       "71         Jr. Supply Chain Analyst               Restaurant Depot   \n",
       "72              Junior Data Analyst                  KLEAR Digital   \n",
       "73              Junior Data Analyst                  391 Financial   \n",
       "74                     Data Analyst       FAMILY TREE PRIVATE CARE   \n",
       "\n",
       "                              Location                            Salary  \\\n",
       "0             Remote in Washington, DC                               N/A   \n",
       "1                       Lehi, UT 84043    Estimated $39K - $49.4K a year   \n",
       "2                Remote in Phoenix, AZ                               N/A   \n",
       "3             Newtown Square, PA 19073                               N/A   \n",
       "4                               Remote  Estimated $76.1K - $96.3K a year   \n",
       "..                                 ...                               ...   \n",
       "70               Ponte Vedra, FL 32081                               N/A   \n",
       "71                Whitestone, NY 11357                               N/A   \n",
       "72                 Mansfield, PA 16933  Estimated $47.5K - $60.2K a year   \n",
       "73                  Columbia, MO 65203    Estimated $50K - $63.3K a year   \n",
       "74  Houston, TX 77063 (Westchase area)    Estimated $52K - $65.8K a year   \n",
       "\n",
       "                                                                                                                                   Link  \n",
       "0   https://www.indeed.com/company/Tarkik-Solutions-Incorporated/jobs/Junior-Data-Analyst-ee47acfffc074d36?fccid=4ba13ae15fa6e720&vjs=3  \n",
       "1                                                        https://www.indeed.com/rc/clk?jk=c8b75f805512db15&fccid=075431e2f3a24949&vjs=3  \n",
       "2      https://www.indeed.com/company/learnbeyond-consulting/jobs/Junior-Business-Analyst-b37fc0a8923588b3?fccid=c035442f4e5ececf&vjs=3  \n",
       "3      https://www.indeed.com/company/Cobbs-Creek-Healthcare-LLC/jobs/Junior-Data-Analyst-3543db1cf0005aa6?fccid=16a23728ad62ad53&vjs=3  \n",
       "4                                                        https://www.indeed.com/rc/clk?jk=3431753fef1de31b&fccid=19a0fad134659d8e&vjs=3  \n",
       "..                                                                                                                                  ...  \n",
       "70                                                       https://www.indeed.com/rc/clk?jk=dedf0d1d0232c667&fccid=067c543bb0652f1c&vjs=3  \n",
       "71                                                       https://www.indeed.com/rc/clk?jk=18e1c3bfdf1a3707&fccid=3ca7b0879e770c4b&vjs=3  \n",
       "72                                                       https://www.indeed.com/rc/clk?jk=96c3e0e95f6c9e10&fccid=4b09aa20a32f74a1&vjs=3  \n",
       "73                                                       https://www.indeed.com/rc/clk?jk=2deaa37c6326b507&fccid=97ed34b540852c92&vjs=3  \n",
       "74                                                       https://www.indeed.com/rc/clk?jk=6446251994199208&fccid=bc36b07c4dd6e8bf&vjs=3  \n",
       "\n",
       "[75 rows x 5 columns]"
      ]
     },
     "metadata": {},
     "output_type": "display_data"
    }
   ],
   "source": [
    "display(df)"
   ]
  },
  {
   "cell_type": "code",
   "execution_count": 12,
   "metadata": {},
   "outputs": [],
   "source": [
    "pd.set_option('display.max_colwidth',None)"
   ]
  },
  {
   "cell_type": "code",
   "execution_count": 13,
   "metadata": {},
   "outputs": [
    {
     "data": {
      "text/plain": [
       "0            https://www.indeed.com/company/Tarkik-Solutions-Incorporated/jobs/Junior-Data-Analyst-ee47acfffc074d36?fccid=4ba13ae15fa6e720&vjs=3\n",
       "2               https://www.indeed.com/company/learnbeyond-consulting/jobs/Junior-Business-Analyst-b37fc0a8923588b3?fccid=c035442f4e5ececf&vjs=3\n",
       "4                                                                 https://www.indeed.com/rc/clk?jk=3431753fef1de31b&fccid=19a0fad134659d8e&vjs=3\n",
       "6                                                                 https://www.indeed.com/rc/clk?jk=679c2604e35e3f45&fccid=5dd85e4f1861bacd&vjs=3\n",
       "9                                                                 https://www.indeed.com/rc/clk?jk=38256b8c882d87b5&fccid=ed2347c09522ed5a&vjs=3\n",
       "16    https://www.indeed.com/company/Embedded-Systems-Inc/jobs/Junior-Business-Data-System-Analyst-e053f035a3ae2623?fccid=450aff5f7cce5591&vjs=3\n",
       "17                                                                https://www.indeed.com/rc/clk?jk=73bbac9775b689a8&fccid=facab5dee1aa0a96&vjs=3\n",
       "21                          https://www.indeed.com/company/net2aspire/jobs/Junior-Business-Analyst-f3793af1d09a3be9?fccid=268145626d239938&vjs=3\n",
       "23                                                                https://www.indeed.com/rc/clk?jk=6a2d67efd2f8ad07&fccid=c9a71e917ce3a734&vjs=3\n",
       "24                                                                https://www.indeed.com/rc/clk?jk=aeaa94f15b8ea3ef&fccid=9718145a3454362b&vjs=3\n",
       "43                                                                https://www.indeed.com/rc/clk?jk=0978d117e7c1ff24&fccid=24a4b71b520a2212&vjs=3\n",
       "54         https://www.indeed.com/company/Lumik-LLC/jobs/Junior-Business-Intelligence-Data-Analyst-4c37e67be8462336?fccid=4504290113ba937f&vjs=3\n",
       "60                          https://www.indeed.com/company/net2aspire/jobs/Junior-Business-Analyst-f3793af1d09a3be9?fccid=268145626d239938&vjs=3\n",
       "Name: Link, dtype: object"
      ]
     },
     "execution_count": 13,
     "metadata": {},
     "output_type": "execute_result"
    }
   ],
   "source": [
    "df[df['Location'].str.contains('Remote')]['Link']"
   ]
  },
  {
   "cell_type": "code",
   "execution_count": 14,
   "metadata": {},
   "outputs": [
    {
     "data": {
      "text/plain": [
       "0     https://www.indeed.com/company/Tarkik-Solutions-Incorporated/jobs/Junior-Data-Analyst-ee47acfffc074d36?fccid=4ba13ae15fa6e720&vjs=3\n",
       "1                                                          https://www.indeed.com/rc/clk?jk=c8b75f805512db15&fccid=075431e2f3a24949&vjs=3\n",
       "2        https://www.indeed.com/company/learnbeyond-consulting/jobs/Junior-Business-Analyst-b37fc0a8923588b3?fccid=c035442f4e5ececf&vjs=3\n",
       "3        https://www.indeed.com/company/Cobbs-Creek-Healthcare-LLC/jobs/Junior-Data-Analyst-3543db1cf0005aa6?fccid=16a23728ad62ad53&vjs=3\n",
       "4                                                          https://www.indeed.com/rc/clk?jk=3431753fef1de31b&fccid=19a0fad134659d8e&vjs=3\n",
       "                                                                     ...                                                                 \n",
       "70                                                         https://www.indeed.com/rc/clk?jk=dedf0d1d0232c667&fccid=067c543bb0652f1c&vjs=3\n",
       "71                                                         https://www.indeed.com/rc/clk?jk=18e1c3bfdf1a3707&fccid=3ca7b0879e770c4b&vjs=3\n",
       "72                                                         https://www.indeed.com/rc/clk?jk=96c3e0e95f6c9e10&fccid=4b09aa20a32f74a1&vjs=3\n",
       "73                                                         https://www.indeed.com/rc/clk?jk=2deaa37c6326b507&fccid=97ed34b540852c92&vjs=3\n",
       "74                                                         https://www.indeed.com/rc/clk?jk=6446251994199208&fccid=bc36b07c4dd6e8bf&vjs=3\n",
       "Name: Link, Length: 75, dtype: object"
      ]
     },
     "execution_count": 14,
     "metadata": {},
     "output_type": "execute_result"
    }
   ],
   "source": [
    "df['Link']"
   ]
  }
 ],
 "metadata": {
  "kernelspec": {
   "display_name": "PythonData",
   "language": "python",
   "name": "python3"
  },
  "language_info": {
   "codemirror_mode": {
    "name": "ipython",
    "version": 3
   },
   "file_extension": ".py",
   "mimetype": "text/x-python",
   "name": "python",
   "nbconvert_exporter": "python",
   "pygments_lexer": "ipython3",
   "version": "3.7.7"
  },
  "orig_nbformat": 4
 },
 "nbformat": 4,
 "nbformat_minor": 2
}
